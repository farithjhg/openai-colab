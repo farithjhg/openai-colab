{
  "nbformat": 4,
  "nbformat_minor": 0,
  "metadata": {
    "colab": {
      "provenance": [],
      "authorship_tag": "ABX9TyOGn8m24sdxApijUArbPLMv",
      "include_colab_link": true
    },
    "kernelspec": {
      "name": "python3",
      "display_name": "Python 3"
    },
    "language_info": {
      "name": "python"
    }
  },
  "cells": [
    {
      "cell_type": "markdown",
      "metadata": {
        "id": "view-in-github",
        "colab_type": "text"
      },
      "source": [
        "<a href=\"https://colab.research.google.com/github/farithjhg/openai-colab/blob/main/RAG_MongoDB_OpenAPI.ipynb\" target=\"_parent\"><img src=\"https://colab.research.google.com/assets/colab-badge.svg\" alt=\"Open In Colab\"/></a>"
      ]
    },
    {
      "cell_type": "code",
      "execution_count": null,
      "metadata": {
        "id": "FMWpuFHHO2XZ"
      },
      "outputs": [],
      "source": [
        "# Installing dependencies\n",
        "!pip install pymongo dnspython openai"
      ]
    },
    {
      "cell_type": "code",
      "source": [
        "# config.py\n",
        "MONGODB_URI = \"your_mongodb_connection_string\"\n",
        "OPENAI_API_KEY = \"your_openai_api_key\""
      ],
      "metadata": {
        "id": "S1l8SeBSPFwS"
      },
      "execution_count": 2,
      "outputs": []
    },
    {
      "cell_type": "code",
      "source": [
        "# rag_example.py\n",
        "from pymongo import MongoClient\n",
        "from openai import OpenAI\n",
        "#from config import MONGODB_URI, OPENAI_API_KEY\n",
        "\n",
        "# Initialize MongoDB client\n",
        "client = MongoClient(MONGODB_URI)\n",
        "db = client.sample_mflix\n",
        "collection = db.movies"
      ],
      "metadata": {
        "id": "r12HgW2OQEy-"
      },
      "execution_count": 7,
      "outputs": []
    },
    {
      "cell_type": "code",
      "source": [
        "def retrieve_movie_data(query):\n",
        "    results = collection.find({\"$text\": {\"$search\": query}}, {\"title\": 1, \"plot\": 1, \"_id\": 0}).limit(5)\n",
        "    return list(results)\n",
        "\n",
        "def generate_response(retrieved_data, user_query):\n",
        "    context = \"Based on the following movie data:\\n\"\n",
        "    for movie in retrieved_data:\n",
        "        context += f\"Title: {movie['title']}\\nPlot: {movie['plot']}\\n\\n\"\n",
        "\n",
        "    context += f\"User Query: {user_query}\\nResponse:\"\n",
        "\n",
        "    client = OpenAI(\n",
        "        # This is the default and can be omitted\n",
        "        api_key=OPENAI_API_KEY,\n",
        "    )\n",
        "\n",
        "    # Llama a la API de OpenAI para obtener la información\n",
        "    response = client.chat.completions.create(\n",
        "    messages=[\n",
        "            {\"role\": \"system\", \"content\": \"You are a helpful assistant.\"},\n",
        "            {\"role\": \"user\", \"content\": context\n",
        "             }\n",
        "    ],\n",
        "    model=\"gpt-3.5-turbo\",\n",
        "   )\n",
        "\n",
        "    return response.choices[0].message.content\n",
        "\n",
        "if __name__ == \"__main__\":\n",
        "    user_query = input(\"Enter your query: \")\n",
        "    retrieved_data = retrieve_movie_data(user_query)\n",
        "    response = generate_response(retrieved_data, user_query)\n",
        "    print(f\"Generated Response: {response}\")"
      ],
      "metadata": {
        "colab": {
          "base_uri": "https://localhost:8080/"
        },
        "id": "6Nl4yQt9QrCz",
        "outputId": "a49804fa-01ac-4861-e324-879f9395c492"
      },
      "execution_count": 10,
      "outputs": [
        {
          "output_type": "stream",
          "name": "stdout",
          "text": [
            "Enter your query: Tell me about movies with space travel\n",
            "Generated Response: Here are some movies that involve space travel:\n",
            "\n",
            "1. Gravity (2013)\n",
            "Plot: Two astronauts stranded in space after their shuttle is destroyed must find a way to survive and return to Earth.\n",
            "\n",
            "2. Interstellar (2014)\n",
            "Plot: A group of explorers embarks on a space mission through a wormhole near Saturn in search of a new habitable planet for humanity.\n",
            "\n",
            "3. The Martian (2015)\n",
            "Plot: After being stranded on Mars, an astronaut must use his ingenuity to survive while awaiting rescue.\n",
            "\n",
            "4. 2001: A Space Odyssey (1968)\n",
            "Plot: A classic sci-fi film that follows a voyage to Jupiter with the sentient computer HAL after the discovery of a mysterious monolith.\n",
            "\n",
            "5. Guardians of the Galaxy (2014)\n",
            "Plot: A group of intergalactic misfits teams up to protect a powerful orb from falling into the hands of an evil warlord.\n",
            "\n",
            "These movies feature space travel as a central theme and offer unique perspectives on exploration and adventure beyond Earth.\n"
          ]
        }
      ]
    }
  ]
}